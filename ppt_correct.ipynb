{
 "cells": [
  {
   "cell_type": "code",
   "execution_count": 1,
   "metadata": {
    "collapsed": true
   },
   "outputs": [],
   "source": [
    "import cv2\n",
    "import numpy as np"
   ]
  },
  {
   "cell_type": "code",
   "execution_count": null,
   "metadata": {},
   "outputs": [],
   "source": [
    "from PIL import Image  \n",
    "from pylab import *  \n",
    "  \n",
    "im = array(Image.open('1.jpg'))  \n",
    "imshow(im)  \n",
    "print('Please click 4 points')  \n",
    "x =ginput(4)  \n",
    "print ('you clicked:',x ) \n",
    "show()\n",
    "a=x.copy()\n",
    "pt1 = np.float32(a)"
   ]
  },
  {
   "cell_type": "code",
   "execution_count": 19,
   "metadata": {},
   "outputs": [],
   "source": [
    "\n",
    "im = cv2.imread('1.jpg')\n",
    "# areas in source img\n",
    "pt1 = np.float32(a)\n",
    "# fix the new image size as (x, y)\n",
    "x = 1080\n",
    "y = 820\n",
    "# points in new image\n",
    "pt2 = np.float32([[0,0],[x,0],[0,y],[x,y]])\n",
    "# get the transform matrix\n",
    "T = cv2.getPerspectiveTransform(pt1, pt2)\n",
    "# transform\n",
    "new_img = cv2.warpPerspective(im,T,(x,y))\n",
    "# Show the new image.\n",
    "cv2.imwrite('new.jpg',new_img)\n",
    "cv2.imshow('newImage',new_img)\n",
    "cv2.waitKey(0)\n",
    "cv2.destroyAllWindows()"
   ]
  }
 ],
 "metadata": {
  "kernelspec": {
   "display_name": "Python 3",
   "language": "python",
   "name": "python3"
  },
  "language_info": {
   "codemirror_mode": {
    "name": "ipython",
    "version": 3
   },
   "file_extension": ".py",
   "mimetype": "text/x-python",
   "name": "python",
   "nbconvert_exporter": "python",
   "pygments_lexer": "ipython3",
   "version": "3.5.2"
  }
 },
 "nbformat": 4,
 "nbformat_minor": 1
}

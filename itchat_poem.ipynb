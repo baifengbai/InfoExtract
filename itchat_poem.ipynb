{
 "cells": [
  {
   "cell_type": "markdown",
   "metadata": {},
   "source": [
    "# 导入相应库"
   ]
  },
  {
   "cell_type": "code",
   "execution_count": 14,
   "metadata": {},
   "outputs": [],
   "source": [
    "import pandas as pd\n",
    "import itchat\n",
    "import time"
   ]
  },
  {
   "cell_type": "markdown",
   "metadata": {},
   "source": [
    "\n",
    "# 获取翠翠的UserName"
   ]
  },
  {
   "cell_type": "code",
   "execution_count": 46,
   "metadata": {},
   "outputs": [
    {
     "data": {
      "text/plain": [
       "[<User: {'City': '', 'Alias': '', 'UniFriend': 0, 'PYQuanPin': 'sunny', 'MemberCount': 0, 'NickName': 'sunny', 'Sex': 0, 'StarFriend': 0, 'AppAccountFlag': 0, 'HideInputBarFlag': 0, 'Signature': '', 'VerifyFlag': 0, 'UserName': '@bbb80f828f1d277eb20d00f5f65c632568c1eb5a6ffa2a17ce0db81c991952ff', 'RemarkPYQuanPin': 'lijincui', 'HeadImgUrl': '/cgi-bin/mmwebwx-bin/webwxgeticon?seq=664913853&username=@bbb80f828f1d277eb20d00f5f65c632568c1eb5a6ffa2a17ce0db81c991952ff&skey=@crypt_40893299_3ba4e44983be4de03e4ab6dc8f757f5d', 'AttrStatus': 16777253, 'EncryChatRoomId': '', 'Statues': 0, 'RemarkPYInitial': 'LJC', 'OwnerUin': 0, 'RemarkName': '李金翠', 'KeyWord': '', 'Uin': 0, 'PYInitial': 'SUNNY', 'DisplayName': '', 'IsOwner': 0, 'SnsFlag': 17, 'Province': '', 'MemberList': <ContactList: []>, 'ContactFlag': 2051, 'ChatRoomId': 0}>,\n",
       " <User: {'City': '石家庄', 'Alias': '', 'UniFriend': 0, 'PYQuanPin': 'sunny', 'MemberCount': 0, 'NickName': 'sunny', 'Sex': 2, 'StarFriend': 0, 'AppAccountFlag': 0, 'HideInputBarFlag': 0, 'Signature': '', 'VerifyFlag': 0, 'UserName': '@4669defab873fcfefe416ad25514000cb96ed10f35fcce6f6f7dc4ee3276ccf5', 'RemarkPYQuanPin': '', 'HeadImgUrl': '/cgi-bin/mmwebwx-bin/webwxgeticon?seq=671271224&username=@4669defab873fcfefe416ad25514000cb96ed10f35fcce6f6f7dc4ee3276ccf5&skey=@crypt_40893299_3ba4e44983be4de03e4ab6dc8f757f5d', 'AttrStatus': 4165, 'EncryChatRoomId': '', 'Statues': 0, 'RemarkPYInitial': '', 'OwnerUin': 0, 'RemarkName': '', 'KeyWord': '', 'Uin': 0, 'PYInitial': 'SUNNY', 'DisplayName': '', 'IsOwner': 0, 'SnsFlag': 17, 'Province': '河北', 'MemberList': <ContactList: []>, 'ContactFlag': 1, 'ChatRoomId': 0}>]"
      ]
     },
     "execution_count": 46,
     "metadata": {},
     "output_type": "execute_result"
    }
   ],
   "source": [
    "itchat.search_friends(name='sunny')"
   ]
  },
  {
   "cell_type": "markdown",
   "metadata": {},
   "source": [
    "# 读入改写的诗"
   ]
  },
  {
   "cell_type": "code",
   "execution_count": 52,
   "metadata": {},
   "outputs": [
    {
     "name": "stdout",
     "output_type": "stream",
     "text": [
      "千秋无绝色，就翠是佳人\n",
      "\n",
      "芙蓉不及美人妆，水殿风来珠翠香\n",
      "\n",
      "翠浓意远淑且真，肌理细腻骨肉匀\n",
      "\n",
      "俏若三春之桃，素若清晨之翠\n",
      "\n",
      "翠眉眼角藏秀气，声音笑貌露温柔\n",
      "\n",
      "翩若惊鸿，婉若小\n",
      "\n",
      "翠翠既醉，万古无夜\n",
      "\n",
      "冰肌自是生来瘦，那更翠来后\n",
      "\n",
      "邀人傅脂粉，不自著罗衣\n",
      "\n",
      "翠色掩今古，荷花羞玉颜\n",
      "\n",
      "宏福有小翠，绝世而独立\n",
      "\n",
      "垆边翠似月，皓腕凝霜雪\n",
      "\n",
      "届笑春桃兮，云堆翠髻；唇绽樱颗兮，榴齿含香\n",
      "\n",
      "娴静犹如花照水，行动好比翠如风\n",
      "\n",
      "独自莫凭栏，无限江山，别时容易见翠难\n",
      "\n",
      "袅娜少女羞，岁月翠忧愁\n",
      "\n",
      "芳容丽质更妖娆，秋水精神翠娜腰\n",
      "\n",
      "珠缨翠转星宿摇，花蔓抖擞龙蛇动\n",
      "\n",
      "蒹葭苍苍，白露为霜。所谓伊人，就是翠旁\n",
      "\n",
      "花心何人捻，翠面如娇靥\n",
      "\n"
     ]
    }
   ],
   "source": [
    "f = open(\"poem1.txt\",\"r\")  \n",
    "lines = f.readlines()\n",
    "for line in lines[0:20]:\n",
    "    print(line)"
   ]
  },
  {
   "cell_type": "markdown",
   "metadata": {},
   "source": [
    "# 定时讨好"
   ]
  },
  {
   "cell_type": "code",
   "execution_count": 53,
   "metadata": {},
   "outputs": [
    {
     "name": "stdout",
     "output_type": "stream",
     "text": [
      "千秋无绝色，就翠是佳人\n",
      "\n",
      "芙蓉不及美人妆，水殿风来珠翠香\n",
      "\n",
      "翠浓意远淑且真，肌理细腻骨肉匀\n",
      "\n",
      "俏若三春之桃，素若清晨之翠\n",
      "\n",
      "翠眉眼角藏秀气，声音笑貌露温柔\n",
      "\n",
      "翩若惊鸿，婉若小\n",
      "\n",
      "翠翠既醉，万古无夜\n",
      "\n",
      "冰肌自是生来瘦，那更翠来后\n",
      "\n",
      "邀人傅脂粉，不自著罗衣\n",
      "\n",
      "翠色掩今古，荷花羞玉颜\n",
      "\n",
      "宏福有小翠，绝世而独立\n",
      "\n",
      "垆边翠似月，皓腕凝霜雪\n",
      "\n",
      "届笑春桃兮，云堆翠髻；唇绽樱颗兮，榴齿含香\n",
      "\n",
      "娴静犹如花照水，行动好比翠如风\n",
      "\n",
      "独自莫凭栏，无限江山，别时容易见翠难\n",
      "\n",
      "袅娜少女羞，岁月翠忧愁\n",
      "\n",
      "芳容丽质更妖娆，秋水精神翠娜腰\n",
      "\n",
      "珠缨翠转星宿摇，花蔓抖擞龙蛇动\n",
      "\n",
      "蒹葭苍苍，白露为霜。所谓伊人，就是翠旁\n",
      "\n",
      "花心何人捻，翠面如娇靥\n",
      "\n"
     ]
    }
   ],
   "source": [
    "for line in lines[0:20]:\n",
    "    time.sleep(1)\n",
    "    itchat.send_msg(line,toUserName='@bbb80f828f1d277eb20d00f5f65c632568c1eb5a6ffa2a17ce0db81c991952ff')\n",
    "    print(line)"
   ]
  }
 ],
 "metadata": {
  "kernelspec": {
   "display_name": "Python 3",
   "language": "python",
   "name": "python3"
  },
  "language_info": {
   "codemirror_mode": {
    "name": "ipython",
    "version": 3
   },
   "file_extension": ".py",
   "mimetype": "text/x-python",
   "name": "python",
   "nbconvert_exporter": "python",
   "pygments_lexer": "ipython3",
   "version": "3.5.2"
  }
 },
 "nbformat": 4,
 "nbformat_minor": 1
}
